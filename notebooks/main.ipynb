{
 "cells": [
  {
   "cell_type": "code",
   "execution_count": 1,
   "metadata": {},
   "outputs": [],
   "source": [
    "import pandas as pd\n",
    "import numpy as np\n",
    "%matplotlib inline"
   ]
  },
  {
   "cell_type": "code",
   "execution_count": 2,
   "metadata": {},
   "outputs": [
    {
     "data": {
      "text/html": [
       "<div>\n",
       "<style scoped>\n",
       "    .dataframe tbody tr th:only-of-type {\n",
       "        vertical-align: middle;\n",
       "    }\n",
       "\n",
       "    .dataframe tbody tr th {\n",
       "        vertical-align: top;\n",
       "    }\n",
       "\n",
       "    .dataframe thead th {\n",
       "        text-align: right;\n",
       "    }\n",
       "</style>\n",
       "<table border=\"1\" class=\"dataframe\">\n",
       "  <thead>\n",
       "    <tr style=\"text-align: right;\">\n",
       "      <th></th>\n",
       "      <th>online_order</th>\n",
       "      <th>book_table</th>\n",
       "      <th>rate</th>\n",
       "      <th>votes</th>\n",
       "      <th>rest_type</th>\n",
       "      <th>cost</th>\n",
       "      <th>type</th>\n",
       "      <th>cuisine</th>\n",
       "    </tr>\n",
       "  </thead>\n",
       "  <tbody>\n",
       "    <tr>\n",
       "      <th>0</th>\n",
       "      <td>Yes</td>\n",
       "      <td>Yes</td>\n",
       "      <td>4.1</td>\n",
       "      <td>775</td>\n",
       "      <td>Casual Dining</td>\n",
       "      <td>800.0</td>\n",
       "      <td>Buffet</td>\n",
       "      <td>North Indian</td>\n",
       "    </tr>\n",
       "    <tr>\n",
       "      <th>1</th>\n",
       "      <td>Yes</td>\n",
       "      <td>Yes</td>\n",
       "      <td>4.1</td>\n",
       "      <td>775</td>\n",
       "      <td>Casual Dining</td>\n",
       "      <td>800.0</td>\n",
       "      <td>Buffet</td>\n",
       "      <td>Mughlai</td>\n",
       "    </tr>\n",
       "    <tr>\n",
       "      <th>2</th>\n",
       "      <td>Yes</td>\n",
       "      <td>Yes</td>\n",
       "      <td>4.1</td>\n",
       "      <td>775</td>\n",
       "      <td>Casual Dining</td>\n",
       "      <td>800.0</td>\n",
       "      <td>Buffet</td>\n",
       "      <td>Chinese</td>\n",
       "    </tr>\n",
       "    <tr>\n",
       "      <th>3</th>\n",
       "      <td>Yes</td>\n",
       "      <td>No</td>\n",
       "      <td>4.1</td>\n",
       "      <td>787</td>\n",
       "      <td>Casual Dining</td>\n",
       "      <td>800.0</td>\n",
       "      <td>Buffet</td>\n",
       "      <td>Chinese</td>\n",
       "    </tr>\n",
       "    <tr>\n",
       "      <th>4</th>\n",
       "      <td>Yes</td>\n",
       "      <td>No</td>\n",
       "      <td>4.1</td>\n",
       "      <td>787</td>\n",
       "      <td>Casual Dining</td>\n",
       "      <td>800.0</td>\n",
       "      <td>Buffet</td>\n",
       "      <td>North Indian</td>\n",
       "    </tr>\n",
       "  </tbody>\n",
       "</table>\n",
       "</div>"
      ],
      "text/plain": [
       "  online_order book_table  rate  votes      rest_type   cost    type  \\\n",
       "0          Yes        Yes   4.1    775  Casual Dining  800.0  Buffet   \n",
       "1          Yes        Yes   4.1    775  Casual Dining  800.0  Buffet   \n",
       "2          Yes        Yes   4.1    775  Casual Dining  800.0  Buffet   \n",
       "3          Yes         No   4.1    787  Casual Dining  800.0  Buffet   \n",
       "4          Yes         No   4.1    787  Casual Dining  800.0  Buffet   \n",
       "\n",
       "        cuisine  \n",
       "0  North Indian  \n",
       "1       Mughlai  \n",
       "2       Chinese  \n",
       "3       Chinese  \n",
       "4  North Indian  "
      ]
     },
     "execution_count": 2,
     "metadata": {},
     "output_type": "execute_result"
    }
   ],
   "source": [
    "df=pd.read_csv(\"restaurant_data.csv\")\n",
    "df.head()"
   ]
  },
  {
   "cell_type": "code",
   "execution_count": 3,
   "metadata": {},
   "outputs": [],
   "source": [
    "X=df.drop([\"rate\"],axis=1)\n",
    "y=df[\"rate\"]"
   ]
  },
  {
   "cell_type": "code",
   "execution_count": 4,
   "metadata": {},
   "outputs": [],
   "source": [
    "from sklearn.model_selection import train_test_split\n",
    "\n",
    "X_train,X_test,y_train,y_test=train_test_split(X,y,test_size=0.20,random_state=42)"
   ]
  },
  {
   "cell_type": "code",
   "execution_count": 5,
   "metadata": {},
   "outputs": [],
   "source": [
    "from sklearn.preprocessing import LabelEncoder\n",
    "label_enc1 = LabelEncoder()\n",
    "\n",
    "X_train['online_order'] = label_enc1.fit_transform(X_train['online_order'])  # Yes=1, No=0\n",
    "X_train['book_table'] = label_enc1.fit_transform(X_train['book_table'])      # Yes=1, No=0\n",
    "\n",
    "X_test['online_order'] = label_enc1.transform(X_test['online_order'])  # Yes=1, No=0\n",
    "X_test['book_table'] = label_enc1.transform(X_test['book_table'])      # Yes=1, No=0"
   ]
  },
  {
   "cell_type": "code",
   "execution_count": 6,
   "metadata": {},
   "outputs": [
    {
     "name": "stdout",
     "output_type": "stream",
     "text": [
      "0\n",
      "         rest_type  rest_type_encoded\n",
      "0           Bakery                  0\n",
      "1              Bar                  1\n",
      "2    Beverage Shop                  2\n",
      "3       Bhojanalya                  3\n",
      "4             Cafe                  4\n",
      "5    Casual Dining                  5\n",
      "6             Club                  6\n",
      "7    Confectionery                  7\n",
      "8         Delivery                  8\n",
      "9   Dessert Parlor                  9\n",
      "10           Dhaba                 10\n",
      "11     Fine Dining                 11\n",
      "12      Food Court                 12\n",
      "13      Food Truck                 13\n",
      "14           Kiosk                 14\n",
      "15          Lounge                 15\n",
      "16            Mess                 16\n",
      "17    Microbrewery                 17\n",
      "18             Pub                 18\n",
      "19     Quick Bites                 19\n",
      "20      Sweet Shop                 20\n",
      "21        Takeaway                 21\n"
     ]
    }
   ],
   "source": [
    "# Step 1: Split and retain the first value\n",
    "X_train[\"rest_type\"] = X_train[\"rest_type\"].str.split(\",\").str[0].str.strip()\n",
    "X_test[\"rest_type\"] = X_test[\"rest_type\"].str.split(\",\").str[0].str.strip()\n",
    "\n",
    "# Step 2: Encode the cleaned `rest_type` column\n",
    "label_enc2 = LabelEncoder()\n",
    "X_train[\"rest_type\"] = label_enc2.fit_transform(X_train[\"rest_type\"])\n",
    "X_test[\"rest_type\"]=label_enc2.transform(X_test[\"rest_type\"])\n",
    "\n",
    "print(df[\"rest_type\"].isnull().sum())\n",
    "\n",
    "# Optional: If you want to see the type and their encoded values\n",
    "unique_rest_type = pd.DataFrame({\n",
    "    \"rest_type\": label_enc2.classes_,\n",
    "    \"rest_type_encoded\": range(len(label_enc2.classes_))\n",
    "})\n",
    "print(unique_rest_type)"
   ]
  },
  {
   "cell_type": "code",
   "execution_count": 7,
   "metadata": {},
   "outputs": [
    {
     "data": {
      "text/plain": [
       "cuisine\n",
       "North Indian     10976\n",
       "Chinese           8104\n",
       "Continental       3970\n",
       "Fast Food         3864\n",
       "South Indian      3858\n",
       "Cafe              3350\n",
       "Biryani           3298\n",
       "Desserts          3033\n",
       "Beverages         2534\n",
       "Italian           2308\n",
       "Others            1650\n",
       "Street Food       1438\n",
       "Pizza             1437\n",
       "Burger            1384\n",
       "Bakery            1257\n",
       "Seafood           1172\n",
       "Andhra            1089\n",
       "American          1045\n",
       "Mughlai            992\n",
       "Ice Cream          973\n",
       "Asian              971\n",
       "Finger Food        906\n",
       "Salad              832\n",
       "Momos              769\n",
       "Rolls              737\n",
       "Kerala             732\n",
       "Thai               719\n",
       "Arabian            591\n",
       "BBQ                561\n",
       "European           557\n",
       "Kebab              537\n",
       "Healthy Food       509\n",
       "Juices             497\n",
       "Mithai             497\n",
       "Sandwich           493\n",
       "Mediterranean      439\n",
       "Steak              425\n",
       "Mangalorean        390\n",
       "Mexican            356\n",
       "Bengali            346\n",
       "Japanese           284\n",
       "Tea                192\n",
       "Hyderabadi         181\n",
       "Tibetan            173\n",
       "Modern Indian      139\n",
       "Vietnamese         133\n",
       "Chettinad          129\n",
       "Korean             121\n",
       "Rajasthani         111\n",
       "Name: count, dtype: int64"
      ]
     },
     "execution_count": 7,
     "metadata": {},
     "output_type": "execute_result"
    }
   ],
   "source": [
    "df[\"cuisine\"].value_counts()"
   ]
  },
  {
   "cell_type": "code",
   "execution_count": 8,
   "metadata": {},
   "outputs": [
    {
     "name": "stdout",
     "output_type": "stream",
     "text": [
      "          cuisine  cuisine_encoded\n",
      "0        American                0\n",
      "1          Andhra                1\n",
      "2         Arabian                2\n",
      "3           Asian                3\n",
      "4             BBQ                4\n",
      "5          Bakery                5\n",
      "6         Bengali                6\n",
      "7       Beverages                7\n",
      "8         Biryani                8\n",
      "9          Burger                9\n",
      "10           Cafe               10\n",
      "11      Chettinad               11\n",
      "12        Chinese               12\n",
      "13    Continental               13\n",
      "14       Desserts               14\n",
      "15       European               15\n",
      "16      Fast Food               16\n",
      "17    Finger Food               17\n",
      "18   Healthy Food               18\n",
      "19     Hyderabadi               19\n",
      "20      Ice Cream               20\n",
      "21        Italian               21\n",
      "22       Japanese               22\n",
      "23         Juices               23\n",
      "24          Kebab               24\n",
      "25         Kerala               25\n",
      "26         Korean               26\n",
      "27    Mangalorean               27\n",
      "28  Mediterranean               28\n",
      "29        Mexican               29\n",
      "30         Mithai               30\n",
      "31  Modern Indian               31\n",
      "32          Momos               32\n",
      "33        Mughlai               33\n",
      "34   North Indian               34\n",
      "35         Others               35\n",
      "36          Pizza               36\n",
      "37     Rajasthani               37\n",
      "38          Rolls               38\n",
      "39          Salad               39\n",
      "40       Sandwich               40\n",
      "41        Seafood               41\n",
      "42   South Indian               42\n",
      "43          Steak               43\n",
      "44    Street Food               44\n",
      "45            Tea               45\n",
      "46           Thai               46\n",
      "47        Tibetan               47\n",
      "48     Vietnamese               48\n"
     ]
    }
   ],
   "source": [
    "label_enc3 = LabelEncoder()\n",
    "X_train[\"cuisine\"] = label_enc3.fit_transform(X_train[\"cuisine\"])\n",
    "X_test[\"cuisine\"]=label_enc3.transform(X_test[\"cuisine\"])\n",
    "\n",
    "# Optional: If you want to see the unique cuisines and their encoded values\n",
    "unique_cuisines = pd.DataFrame({\n",
    "    \"cuisine\": label_enc3.classes_,\n",
    "    \"cuisine_encoded\": range(len(label_enc3.classes_))\n",
    "})\n",
    "print(unique_cuisines)"
   ]
  },
  {
   "cell_type": "code",
   "execution_count": 9,
   "metadata": {},
   "outputs": [
    {
     "name": "stdout",
     "output_type": "stream",
     "text": [
      "                 type  type_encoded\n",
      "0              Buffet             0\n",
      "1               Cafes             1\n",
      "2            Delivery             2\n",
      "3            Desserts             3\n",
      "4            Dine-out             4\n",
      "5  Drinks & nightlife             5\n",
      "6       Pubs and bars             6\n"
     ]
    }
   ],
   "source": [
    "label_enc4 = LabelEncoder()\n",
    "X_train[\"type\"] = label_enc4.fit_transform(X_train[\"type\"])\n",
    "X_test[\"type\"] = label_enc4.transform(X_test[\"type\"])\n",
    "\n",
    "# Optional: If you want to see the unique listed_in(type) and their encoded values\n",
    "unique_type = pd.DataFrame({\n",
    "    \"type\": label_enc4.classes_,\n",
    "    \"type_encoded\": range(len(label_enc4.classes_))\n",
    "})\n",
    "print(unique_type)"
   ]
  },
  {
   "cell_type": "code",
   "execution_count": 10,
   "metadata": {},
   "outputs": [
    {
     "name": "stdout",
     "output_type": "stream",
     "text": [
      "<class 'pandas.core.frame.DataFrame'>\n",
      "Index: 56847 entries, 54066 to 15795\n",
      "Data columns (total 7 columns):\n",
      " #   Column        Non-Null Count  Dtype  \n",
      "---  ------        --------------  -----  \n",
      " 0   online_order  56847 non-null  int64  \n",
      " 1   book_table    56847 non-null  int64  \n",
      " 2   votes         56847 non-null  int64  \n",
      " 3   rest_type     56847 non-null  int64  \n",
      " 4   cost          56847 non-null  float64\n",
      " 5   type          56847 non-null  int64  \n",
      " 6   cuisine       56847 non-null  int64  \n",
      "dtypes: float64(1), int64(6)\n",
      "memory usage: 3.5 MB\n"
     ]
    }
   ],
   "source": [
    "X_train.info()"
   ]
  },
  {
   "cell_type": "code",
   "execution_count": 11,
   "metadata": {},
   "outputs": [
    {
     "name": "stdout",
     "output_type": "stream",
     "text": [
      "                        MAE        R²\n",
      "Linear Regression  0.278739  0.346122\n",
      "Decision Tree      0.080096  0.776888\n",
      "Random Forest      0.088885  0.856311\n",
      "Gradient Boosting  0.219800  0.538494\n"
     ]
    }
   ],
   "source": [
    "from sklearn.linear_model import LinearRegression\n",
    "from sklearn.tree import DecisionTreeRegressor\n",
    "from sklearn.ensemble import RandomForestRegressor, GradientBoostingRegressor\n",
    "from sklearn.metrics import mean_absolute_error, r2_score\n",
    "\n",
    "models = {\n",
    "    \"Linear Regression\": LinearRegression(),\n",
    "    \"Decision Tree\": DecisionTreeRegressor(random_state=42),\n",
    "    \"Random Forest\": RandomForestRegressor(random_state=42),\n",
    "    \"Gradient Boosting\": GradientBoostingRegressor(random_state=42)\n",
    "}\n",
    "\n",
    "results = {}\n",
    "\n",
    "# train and evaluate each model\n",
    "for name, model in models.items():\n",
    "    # training the model\n",
    "    model.fit(X_train, y_train)\n",
    "\n",
    "    # making predictions on the test set\n",
    "    predictions = model.predict(X_test)\n",
    "\n",
    "    # calculating evaluation metrics\n",
    "    mae = mean_absolute_error(y_test, predictions)\n",
    "    r2 = r2_score(y_test, predictions)\n",
    "\n",
    "    # storing the metrics\n",
    "    results[name] = {\"MAE\": mae, \"R²\": r2}\n",
    "\n",
    "results_df = pd.DataFrame(results).T\n",
    "print(results_df)"
   ]
  },
  {
   "cell_type": "code",
   "execution_count": 12,
   "metadata": {},
   "outputs": [],
   "source": [
    "# ## Selecting the Random Forest Algo beacause of high Accuracy\n",
    "\n",
    "# from sklearn.ensemble import RandomForestRegressor\n",
    "# from sklearn.model_selection import GridSearchCV\n",
    "# from sklearn.metrics import mean_squared_error,r2_score\n",
    "\n",
    "# model=RandomForestRegressor(random_state=42)\n",
    "\n",
    "# # Define the hyperparameter grid\n",
    "# param_grid = {\n",
    "#     'n_estimators': [50, 100, 200],\n",
    "#     'max_depth': [None, 10, 20, 30],\n",
    "#     'min_samples_split': [2, 5, 10],\n",
    "#     'min_samples_leaf': [1, 2, 4],\n",
    "#     'max_features': ['sqrt', 'log2', None]\n",
    "# }\n",
    "\n",
    "# # Perform GridSearchCV\n",
    "# grid_search = GridSearchCV(\n",
    "#     estimator=model,\n",
    "#     param_grid=param_grid,\n",
    "#     scoring='neg_mean_squared_error',\n",
    "#     cv=5,\n",
    "#     verbose=2,\n",
    "#     n_jobs=-1\n",
    "# )\n",
    "\n",
    "# # Fit the model\n",
    "# grid_search.fit(X_train, y_train)\n",
    "\n",
    "# # Best hyperparameters\n",
    "# print(\"Best Hyperparameters:\", grid_search.best_params_)\n",
    "\n",
    "# # Evaluate on test data\n",
    "# best_rf = grid_search.best_estimator_\n",
    "# y_pred = best_rf.predict(X_test)\n",
    "# mse = mean_squared_error(y_test, y_pred)\n",
    "# r2 = r2_score(y_test, y_pred)\n",
    "# print(\"Test Mean Squared Error:\", mse)\n",
    "# print(\"Test R² Score:\", r2)"
   ]
  },
  {
   "cell_type": "code",
   "execution_count": 13,
   "metadata": {},
   "outputs": [
    {
     "name": "stdout",
     "output_type": "stream",
     "text": [
      "0.08888485107411645\n",
      "0.8563111574443173\n"
     ]
    }
   ],
   "source": [
    "model= RandomForestRegressor(random_state=42)\n",
    "\n",
    "model.fit(X_train, y_train)\n",
    "\n",
    "y_pred = model.predict(X_test)\n",
    "\n",
    "print(mean_absolute_error(y_test, y_pred))\n",
    "print(r2_score(y_test, y_pred))"
   ]
  },
  {
   "cell_type": "code",
   "execution_count": 14,
   "metadata": {},
   "outputs": [],
   "source": [
    "# import pickle\n",
    "\n",
    "# pickle.dump(label_enc1,open(\"label_enc1.pkl\",\"wb\"))\n",
    "# pickle.dump(label_enc2,open(\"label_enc2.pkl\",\"wb\"))\n",
    "# pickle.dump(label_enc3,open(\"label_enc3.pkl\",\"wb\"))\n",
    "# pickle.dump(label_enc4,open(\"label_enc4.pkl\",\"wb\"))\n",
    "# pickle.dump(model,open(\"model.pkl\",\"wb\"))"
   ]
  }
 ],
 "metadata": {
  "kernelspec": {
   "display_name": "venv",
   "language": "python",
   "name": "python3"
  },
  "language_info": {
   "codemirror_mode": {
    "name": "ipython",
    "version": 3
   },
   "file_extension": ".py",
   "mimetype": "text/x-python",
   "name": "python",
   "nbconvert_exporter": "python",
   "pygments_lexer": "ipython3",
   "version": "3.12.0"
  }
 },
 "nbformat": 4,
 "nbformat_minor": 2
}
